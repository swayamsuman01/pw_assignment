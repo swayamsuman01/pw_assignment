{
 "cells": [
  {
   "cell_type": "code",
   "execution_count": 1,
   "id": "b1f8556c-3786-4528-927d-ac4b8150129a",
   "metadata": {},
   "outputs": [
    {
     "name": "stdout",
     "output_type": "stream",
     "text": [
      "[1, 3, 5, 7, 9, 11, 13, 15, 17, 19, 21, 23, 25]\n"
     ]
    }
   ],
   "source": [
    "'''qQ1 Which keyword is used to create a function? Create a function to return a list of odd numbers in the\n",
    "range of 1 to 25.'''\n",
    "\n",
    "#keyword is def \n",
    "\n",
    "def get_odd_numbers():\n",
    "    # Create a list of odd numbers from 1 to 25\n",
    "    odd_numbers = [num for num in range(1, 26) if num % 2 != 0]\n",
    "    return odd_numbers\n",
    "\n",
    "# Example usage\n",
    "print(get_odd_numbers())\n",
    "\n",
    "\n",
    "\n"
   ]
  },
  {
   "cell_type": "code",
   "execution_count": 3,
   "id": "a999b3ee-6201-475f-981f-fe432b6a1b29",
   "metadata": {},
   "outputs": [
    {
     "name": "stdout",
     "output_type": "stream",
     "text": [
      "10\n",
      "30\n",
      "name: Alice\n",
      "age: 30\n",
      "city: New York\n"
     ]
    }
   ],
   "source": [
    "''' Q2. Why *args and **kwargs is used in some functions? Create a function each for *args and **kwargs\n",
    "to demonstrate their use.'''\n",
    "'''\n",
    "*args: Stands for \"arguments\" and allows a function to accept any number of positional arguments. These arguments are passed to the function as a tuple.\n",
    "**kwargs: Stands for \"keyword arguments\" and allows a function to accept any number of keyword arguments. These arguments are passed to the function as a dictionary.\n",
    "'''\n",
    "def sum_numbers(*args):\n",
    "    \n",
    "    total = sum(args)\n",
    "    return total\n",
    "\n",
    "\n",
    "print(sum_numbers(1, 2, 3, 4))  \n",
    "print(sum_numbers(5, 10, 15))   \n",
    "\n",
    "\n",
    "def describe_person(**kwargs):\n",
    "    # Print each keyword argument and its value\n",
    "    for key, value in kwargs.items():\n",
    "        print(f\"{key}: {value}\")\n",
    "\n",
    "\n",
    "describe_person(name=\"Alice\", age=30, city=\"New York\")\n",
    "# Output:\n",
    "# name: Alice\n",
    "# age: 30\n",
    "# city: New York\n"
   ]
  },
  {
   "cell_type": "code",
   "execution_count": 4,
   "id": "e87e2221-4c1c-4811-ac3b-a72e2aa232ce",
   "metadata": {},
   "outputs": [
    {
     "name": "stdout",
     "output_type": "stream",
     "text": [
      "2\n",
      "4\n",
      "6\n",
      "8\n",
      "10\n"
     ]
    }
   ],
   "source": [
    "'''an iterator is an object that allows you to iterate over a sequence of elements, such as a list or a tuple. Iterators are useful for looping through elements without needing to use an index or a loop counter.\n",
    "\n",
    "Initialization Method: iter()\n",
    "\n",
    "The iter() function is used to obtain an iterator object from an iterable (like a list, tuple, or dictionary).\n",
    "Iteration Method: next()\n",
    "\n",
    "The next() function is used to retrieve the next item from the iterator. When there are no more items to retrieve, it raises a StopIteration exception.\n",
    "'''\n",
    "\n",
    "# Define the list\n",
    "numbers = [2, 4, 6, 8, 10, 12, 14, 16, 18, 20]\n",
    "\n",
    "# Initialize the iterator\n",
    "iterator = iter(numbers)\n",
    "\n",
    "# Print the first five elements using the iterator\n",
    "for _ in range(5):\n",
    "    print(next(iterator))\n"
   ]
  },
  {
   "cell_type": "code",
   "execution_count": 5,
   "id": "bfde23de-8817-411d-815d-1a4379163b45",
   "metadata": {},
   "outputs": [
    {
     "name": "stdout",
     "output_type": "stream",
     "text": [
      "0\n",
      "1\n",
      "4\n",
      "9\n",
      "16\n"
     ]
    }
   ],
   "source": [
    "'''Q4. What is a generator function in python? Why yield keyword is used? Give an example of a generator\n",
    "function.\n",
    "a generator function is a special type of function that allows you to iterate over a sequence of values without storing the entire sequence in memory at once. \n",
    "\n",
    "Yield Keyword: The yield keyword is used in a generator function to produce a value and pause the function’s execution. When the function is called again, it resumes from where it left off, continuing until it hits the next yield statement or returns.\n",
    "'''\n",
    "def generate_squares(n):\n",
    "    for i in range(n):\n",
    "        yield i ** 2\n",
    "\n",
    "# Example usage\n",
    "squares_generator = generate_squares(5)\n",
    "for square in squares_generator:\n",
    "    print(square)\n"
   ]
  },
  {
   "cell_type": "code",
   "execution_count": 7,
   "id": "fda41d43-3b3e-42dd-bc5b-2bf385afa509",
   "metadata": {},
   "outputs": [],
   "source": [
    "'''Q5. Create a generator function for prime numbers less than 1000. Use the next() method to print the\n",
    "first 20 prime numbers.\n",
    "'''\n",
    "\n",
    "def is_prime(num):\n",
    "    \"\"\"Check if a number is prime.\"\"\"\n",
    "    if num <= 1:\n",
    "        return False\n",
    "    if num == 2:\n",
    "        return True\n",
    "    if num % 2 == 0:\n",
    "        return False\n",
    "    for i in range(3, int(num**0.5) + 1, 2):\n",
    "        if num % i == 0:\n",
    "            return False\n",
    "    return True\n",
    "\n",
    "def generate_primes(limit):\n",
    "    \"\"\"Generate prime numbers less than a given limit.\"\"\"\n",
    "    num = 2\n",
    "    while num < limit:\n",
    "        if is_prime(num):\n",
    "            yield num\n",
    "        num += 1\n"
   ]
  },
  {
   "cell_type": "code",
   "execution_count": 8,
   "id": "902208fb-7e5a-49e3-a961-7d367859fc93",
   "metadata": {},
   "outputs": [
    {
     "name": "stdout",
     "output_type": "stream",
     "text": [
      "0 1 1 2 3 5 8 13 21 34 "
     ]
    }
   ],
   "source": [
    "'''Q6. Write a python program to print the first 10 Fibonacci numbers using a while loop.'''\n",
    "\n",
    "def print_fibonacci(n):\n",
    "    # Initialize the first two Fibonacci numbers\n",
    "    a, b = 0, 1\n",
    "    count = 0\n",
    "    \n",
    "    # Print the first n Fibonacci numbers\n",
    "    while count < n:\n",
    "        print(a, end=' ')\n",
    "        # Update the numbers\n",
    "        a, b = b, a + b\n",
    "        count += 1\n",
    "\n",
    "# Print the first 10 Fibonacci numbers\n",
    "print_fibonacci(10)\n"
   ]
  },
  {
   "cell_type": "code",
   "execution_count": 9,
   "id": "b52c958e-d96f-4645-9c00-4eb9bf0bc2c9",
   "metadata": {},
   "outputs": [
    {
     "name": "stdout",
     "output_type": "stream",
     "text": [
      "['p', 'w', 's', 'k', 'i', 'l', 'l', 's']\n"
     ]
    }
   ],
   "source": [
    "'''Q7. Write a List Comprehension to iterate through the given string: ‘pwskills’.\n",
    "Expected output: ['p', 'w', 's', 'k', 'i', 'l', 'l', 's']'''\n",
    "\n",
    "# Given string\n",
    "string = 'pwskills'\n",
    "\n",
    "# List comprehension to iterate through the string and create a list of characters\n",
    "char_list = [char for char in string]\n",
    "\n",
    "# Print the result\n",
    "print(char_list)\n"
   ]
  },
  {
   "cell_type": "code",
   "execution_count": 10,
   "id": "fd90125c-492d-4e89-ae1b-1e30782134f9",
   "metadata": {},
   "outputs": [
    {
     "name": "stdin",
     "output_type": "stream",
     "text": [
      "Enter a number to check if it's a palindrome:  343\n"
     ]
    },
    {
     "name": "stdout",
     "output_type": "stream",
     "text": [
      "343 is a palindrome.\n"
     ]
    }
   ],
   "source": [
    "'''Q8. Write a python program to check whether a given number is Palindrome or not using a while loop.'''\n",
    "\n",
    "def is_palindrome(number):\n",
    "    # Convert number to string to handle digits\n",
    "    original_number = number\n",
    "    reversed_number = 0\n",
    "\n",
    "    # Check if the number is negative\n",
    "    if number < 0:\n",
    "        return False\n",
    "\n",
    "    # Reverse the number using a while loop\n",
    "    while number > 0:\n",
    "        digit = number % 10  # Extract the last digit\n",
    "        reversed_number = reversed_number * 10 + digit  # Append digit to reversed_number\n",
    "        number = number // 10  # Remove the last digit\n",
    "\n",
    "    # Check if the original number and reversed number are the same\n",
    "    return original_number == reversed_number\n",
    "\n",
    "# Example usage\n",
    "number = int(input(\"Enter a number to check if it's a palindrome: \"))\n",
    "if is_palindrome(number):\n",
    "    print(f\"{number} is a palindrome.\")\n",
    "else:\n",
    "    print(f\"{number} is not a palindrome.\")\n"
   ]
  },
  {
   "cell_type": "code",
   "execution_count": null,
   "id": "4aa289d9-756e-48b0-a227-bff409411817",
   "metadata": {},
   "outputs": [],
   "source": [
    "'''Write a code to print odd numbers from 1 to 100 using list comprehension.''"
   ]
  }
 ],
 "metadata": {
  "kernelspec": {
   "display_name": "Python 3 (ipykernel)",
   "language": "python",
   "name": "python3"
  },
  "language_info": {
   "codemirror_mode": {
    "name": "ipython",
    "version": 3
   },
   "file_extension": ".py",
   "mimetype": "text/x-python",
   "name": "python",
   "nbconvert_exporter": "python",
   "pygments_lexer": "ipython3",
   "version": "3.10.8"
  }
 },
 "nbformat": 4,
 "nbformat_minor": 5
}
